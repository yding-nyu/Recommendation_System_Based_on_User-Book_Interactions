{
 "cells": [
  {
   "cell_type": "code",
   "execution_count": 40,
   "metadata": {},
   "outputs": [],
   "source": [
    "# code reference: \n",
    "# https://github.com/KevinLiao159/MyDataSciencePortfolio/blob/master/movie_recommender/movie_recommendation_using_ALS.ipynb\n",
    "import os\n",
    "import time\n",
    "\n",
    "# spark imports\n",
    "from pyspark.sql import SparkSession\n",
    "from pyspark.sql.functions import UserDefinedFunction, explode, desc\n",
    "from pyspark.sql.types import StringType, ArrayType\n",
    "# from pyspark.mllib.recommendation import ALS\n",
    "from pyspark.ml.recommendation import ALS\n",
    "\n",
    "# data science imports\n",
    "import math\n",
    "import numpy as np\n",
    "import pandas as pd\n",
    "\n",
    "# visualization imports\n",
    "import seaborn as sns\n",
    "import matplotlib.pyplot as plt\n",
    "\n",
    "%matplotlib inline"
   ]
  },
  {
   "cell_type": "code",
   "execution_count": 2,
   "metadata": {},
   "outputs": [],
   "source": [
    "# spark config\n",
    "spark = SparkSession \\\n",
    "    .builder \\\n",
    "    .appName(\"movie recommendation\") \\\n",
    "    .config(\"spark.driver.maxResultSize\", \"96g\") \\\n",
    "    .config(\"spark.driver.memory\", \"96g\") \\\n",
    "    .config(\"spark.executor.memory\", \"8g\") \\\n",
    "    .config(\"spark.master\", \"local[12]\") \\\n",
    "    .getOrCreate()\n",
    "# get spark context\n",
    "sc = spark.sparkContext"
   ]
  },
  {
   "cell_type": "code",
   "execution_count": 8,
   "metadata": {},
   "outputs": [],
   "source": [
    "valid = spark.read.csv('valid.csv', header = True)"
   ]
  },
  {
   "cell_type": "code",
   "execution_count": 10,
   "metadata": {},
   "outputs": [
    {
     "name": "stdout",
     "output_type": "stream",
     "text": [
      "root\n",
      " |-- _c0: string (nullable = true)\n",
      " |-- user_id: string (nullable = true)\n",
      " |-- book_id: string (nullable = true)\n",
      " |-- review_id: string (nullable = true)\n",
      " |-- is_read: string (nullable = true)\n",
      " |-- rating: string (nullable = true)\n",
      " |-- review_text_incomplete: string (nullable = true)\n",
      " |-- date_added: string (nullable = true)\n",
      " |-- date_updated: string (nullable = true)\n",
      " |-- read_at: string (nullable = true)\n",
      " |-- started_at: string (nullable = true)\n",
      "\n"
     ]
    }
   ],
   "source": [
    "valid.printSchema()"
   ]
  },
  {
   "cell_type": "code",
   "execution_count": 13,
   "metadata": {},
   "outputs": [
    {
     "name": "stdout",
     "output_type": "stream",
     "text": [
      "+-------+--------------------+-------+--------------------+-------+------+----------------------+--------------------+--------------------+-------+----------+\n",
      "|    _c0|             user_id|book_id|           review_id|is_read|rating|review_text_incomplete|          date_added|        date_updated|read_at|started_at|\n",
      "+-------+--------------------+-------+--------------------+-------+------+----------------------+--------------------+--------------------+-------+----------+\n",
      "|2505429|a97d9da59ea6ecb0a...| 590170|dca50f489d1152c13...|   True|     5|                  null|Tue Nov 27 09:22:...|Tue Nov 27 09:25:...|   null|      null|\n",
      "|2505430|a97d9da59ea6ecb0a...| 203838|fb5950f550a8a0169...|   True|     3|                  null|Tue Nov 27 09:16:...|Tue Nov 27 19:10:...|   null|      null|\n",
      "|2505431|a97d9da59ea6ecb0a...| 973197|6177f7b27372a37e9...|   True|     3|                  null|Tue Nov 27 09:13:...|Tue Nov 27 19:04:...|   null|      null|\n",
      "+-------+--------------------+-------+--------------------+-------+------+----------------------+--------------------+--------------------+-------+----------+\n",
      "only showing top 3 rows\n",
      "\n"
     ]
    }
   ],
   "source": [
    "valid.show(3)"
   ]
  },
  {
   "cell_type": "code",
   "execution_count": 14,
   "metadata": {},
   "outputs": [
    {
     "name": "stdout",
     "output_type": "stream",
     "text": [
      "+--------------------+--------+------+\n",
      "|             user_id| book_id|rating|\n",
      "+--------------------+--------+------+\n",
      "|a97d9da59ea6ecb0a...|  590170|     5|\n",
      "|a97d9da59ea6ecb0a...|  203838|     3|\n",
      "|a97d9da59ea6ecb0a...|  973197|     3|\n",
      "|a97d9da59ea6ecb0a...| 6370459|     0|\n",
      "|a97d9da59ea6ecb0a...|  239231|     4|\n",
      "|a97d9da59ea6ecb0a...| 5461604|     3|\n",
      "|a97d9da59ea6ecb0a...|  112138|     4|\n",
      "|a97d9da59ea6ecb0a...|16041612|     0|\n",
      "|a97d9da59ea6ecb0a...|   13273|     4|\n",
      "|a97d9da59ea6ecb0a...|  201217|     4|\n",
      "|a97d9da59ea6ecb0a...|  112166|     5|\n",
      "|a97d9da59ea6ecb0a...|  732562|     5|\n",
      "|7169ffbd13efe9b46...|  395090|     0|\n",
      "|7169ffbd13efe9b46...|  144611|     0|\n",
      "|7169ffbd13efe9b46...|  102962|     0|\n",
      "|7169ffbd13efe9b46...|   19351|     0|\n",
      "|7169ffbd13efe9b46...| 1639333|     0|\n",
      "|e756a6179fb257a7f...|  478992|     5|\n",
      "|e756a6179fb257a7f...|  289302|     5|\n",
      "|e756a6179fb257a7f...|   15997|     4|\n",
      "+--------------------+--------+------+\n",
      "only showing top 20 rows\n",
      "\n"
     ]
    }
   ],
   "source": [
    "# only use the columns we need\n",
    "\n",
    "nd = valid.select(valid['user_id'], valid['book_id'], valid['rating'])\n",
    "nd.show()"
   ]
  },
  {
   "cell_type": "code",
   "execution_count": 15,
   "metadata": {},
   "outputs": [],
   "source": [
    "from pyspark.ml.feature import StringIndexer\n",
    "from pyspark.ml import Pipeline\n",
    "from pyspark.sql.functions import col"
   ]
  },
  {
   "cell_type": "code",
   "execution_count": 16,
   "metadata": {},
   "outputs": [],
   "source": [
    "indexer = [StringIndexer(inputCol=column, outputCol=column+\"_index\") for column in list(set(nd.columns)-set(['rating'])) ]"
   ]
  },
  {
   "cell_type": "code",
   "execution_count": 17,
   "metadata": {},
   "outputs": [
    {
     "name": "stdout",
     "output_type": "stream",
     "text": [
      "+--------------------+--------+------+-------------+-------------+\n",
      "|             user_id| book_id|rating|book_id_index|user_id_index|\n",
      "+--------------------+--------+------+-------------+-------------+\n",
      "|a97d9da59ea6ecb0a...|  590170|     5|      15293.0|       4093.0|\n",
      "|a97d9da59ea6ecb0a...|  203838|     3|        580.0|       4093.0|\n",
      "|a97d9da59ea6ecb0a...|  973197|     3|       3929.0|       4093.0|\n",
      "|a97d9da59ea6ecb0a...| 6370459|     0|       5614.0|       4093.0|\n",
      "|a97d9da59ea6ecb0a...|  239231|     4|        571.0|       4093.0|\n",
      "|a97d9da59ea6ecb0a...| 5461604|     3|      15386.0|       4093.0|\n",
      "|a97d9da59ea6ecb0a...|  112138|     4|       1375.0|       4093.0|\n",
      "|a97d9da59ea6ecb0a...|16041612|     0|      15763.0|       4093.0|\n",
      "|a97d9da59ea6ecb0a...|   13273|     4|       1963.0|       4093.0|\n",
      "|a97d9da59ea6ecb0a...|  201217|     4|       1087.0|       4093.0|\n",
      "|a97d9da59ea6ecb0a...|  112166|     5|        228.0|       4093.0|\n",
      "|a97d9da59ea6ecb0a...|  732562|     5|         28.0|       4093.0|\n",
      "|7169ffbd13efe9b46...|  395090|     0|         15.0|      11890.0|\n",
      "|7169ffbd13efe9b46...|  144611|     0|        978.0|      11890.0|\n",
      "|7169ffbd13efe9b46...|  102962|     0|       4016.0|      11890.0|\n",
      "|7169ffbd13efe9b46...|   19351|     0|         21.0|      11890.0|\n",
      "|7169ffbd13efe9b46...| 1639333|     0|       2274.0|      11890.0|\n",
      "|e756a6179fb257a7f...|  478992|     5|       4032.0|       6781.0|\n",
      "|e756a6179fb257a7f...|  289302|     5|       3010.0|       6781.0|\n",
      "|e756a6179fb257a7f...|   15997|     4|          5.0|       6781.0|\n",
      "+--------------------+--------+------+-------------+-------------+\n",
      "only showing top 20 rows\n",
      "\n"
     ]
    }
   ],
   "source": [
    "# Converting String to index\n",
    "\n",
    "pipeline = Pipeline(stages=indexer)\n",
    "transformed = pipeline.fit(nd).transform(nd)\n",
    "transformed.show()"
   ]
  },
  {
   "cell_type": "code",
   "execution_count": 79,
   "metadata": {},
   "outputs": [
    {
     "name": "stdout",
     "output_type": "stream",
     "text": [
      "root\n",
      " |-- user_id: string (nullable = true)\n",
      " |-- book_id: string (nullable = true)\n",
      " |-- rating: string (nullable = true)\n",
      " |-- book_id_index: double (nullable = false)\n",
      " |-- user_id_index: double (nullable = false)\n",
      "\n"
     ]
    }
   ],
   "source": [
    "transformed.printSchema()"
   ]
  },
  {
   "cell_type": "code",
   "execution_count": 52,
   "metadata": {},
   "outputs": [],
   "source": [
    "transformed.createOrReplaceTempView('transformed_view')"
   ]
  },
  {
   "cell_type": "code",
   "execution_count": 84,
   "metadata": {},
   "outputs": [],
   "source": [
    "haha = transformed.withColumn(\"rating\", transformed.rating.cast(\"int\"))"
   ]
  },
  {
   "cell_type": "code",
   "execution_count": 85,
   "metadata": {},
   "outputs": [
    {
     "name": "stdout",
     "output_type": "stream",
     "text": [
      "root\n",
      " |-- user_id: string (nullable = true)\n",
      " |-- book_id: string (nullable = true)\n",
      " |-- rating: integer (nullable = true)\n",
      " |-- book_id_index: double (nullable = false)\n",
      " |-- user_id_index: double (nullable = false)\n",
      "\n"
     ]
    }
   ],
   "source": [
    "haha.printSchema()"
   ]
  },
  {
   "cell_type": "code",
   "execution_count": 86,
   "metadata": {},
   "outputs": [],
   "source": [
    "# will modify this \n",
    "(training,test)=haha.randomSplit([0.8, 0.2])"
   ]
  },
  {
   "cell_type": "code",
   "execution_count": 87,
   "metadata": {},
   "outputs": [],
   "source": [
    "als = ALS(maxIter=5,regParam=0.09,rank=10,userCol=\"user_id_index\",itemCol=\"book_id_index\",ratingCol=\"rating\",coldStartStrategy=\"drop\",nonnegative=True)"
   ]
  },
  {
   "cell_type": "code",
   "execution_count": 88,
   "metadata": {},
   "outputs": [],
   "source": [
    "model=als.fit(training)"
   ]
  },
  {
   "cell_type": "code",
   "execution_count": 90,
   "metadata": {},
   "outputs": [],
   "source": [
    "from pyspark.ml.evaluation import RegressionEvaluator"
   ]
  },
  {
   "cell_type": "code",
   "execution_count": 92,
   "metadata": {},
   "outputs": [
    {
     "name": "stdout",
     "output_type": "stream",
     "text": [
      "RMSE=1.9144878833427348\n",
      "+--------------------+-------+------+-------------+-------------+-----------+\n",
      "|             user_id|book_id|rating|book_id_index|user_id_index| prediction|\n",
      "+--------------------+-------+------+-------------+-------------+-----------+\n",
      "|810347650d59d9a51...|9658269|     0|        148.0|        255.0| 0.45312956|\n",
      "|e2fd31881738bd252...|9658269|     0|        148.0|       4119.0| 0.22569682|\n",
      "|2ae6c1f350316c7b1...|9658269|     4|        148.0|       8423.0|   2.258429|\n",
      "|90aee9270f3fbd507...|9658269|     0|        148.0|       3166.0|  4.6350756|\n",
      "|e9b3e911bcc0320bf...|9658269|     0|        148.0|       5040.0|        0.0|\n",
      "|cb322ac52fedb7061...|9658269|     0|        148.0|        844.0|  0.2538706|\n",
      "|db80b1fc0f7379205...|9658269|     0|        148.0|        233.0|  0.4696538|\n",
      "|0b8f2c04b63bdeec6...|9658269|     0|        148.0|        603.0|  1.7773238|\n",
      "|d4d8c8af7d8305bc4...|9658269|     4|        148.0|       1008.0|  2.4211395|\n",
      "|13d99bee264960246...|9658269|     0|        148.0|       6221.0|  2.2773445|\n",
      "|dd437b53e55d84c73...|9658269|     4|        148.0|       1616.0|  4.9277883|\n",
      "|4ff9694742be1e03c...|9658269|     5|        148.0|       1636.0|  3.3410587|\n",
      "|a549e3192f2efe6a3...|9658269|     3|        148.0|         64.0| 0.37153852|\n",
      "|354444af2d53d35a5...|9658269|     0|        148.0|       1874.0|  0.3923857|\n",
      "|727523db0ae3a69a4...|9658269|     0|        148.0|       1252.0| 0.32760313|\n",
      "|19af9924a512d2b13...|9658269|     0|        148.0|        849.0|        0.0|\n",
      "|910d92f66dffc7867...|9658269|     0|        148.0|       3674.0|        0.0|\n",
      "|0c3d05515eb04e562...|9658269|     4|        148.0|       3330.0|  1.0673629|\n",
      "|f6f301672c418157d...|9658269|     0|        148.0|        698.0|        0.0|\n",
      "|76dcc72d9d348c575...|9658269|     0|        148.0|       6574.0|0.051090427|\n",
      "+--------------------+-------+------+-------------+-------------+-----------+\n",
      "only showing top 20 rows\n",
      "\n"
     ]
    }
   ],
   "source": [
    "evaluator=RegressionEvaluator(metricName=\"rmse\", labelCol=\"rating\", predictionCol=\"prediction\")\n",
    "predictions=model.transform(test)\n",
    "rmse=evaluator.evaluate(predictions)\n",
    "print(\"RMSE=\"+str(rmse))\n",
    "predictions.show()"
   ]
  },
  {
   "cell_type": "code",
   "execution_count": 96,
   "metadata": {},
   "outputs": [],
   "source": [
    "# the number of users having less than 10 ratings\n",
    "less_rating = spark.sql('SELECT COUNT(*), user_id FROM transformed_view GROUP BY user_id HAVING COUNT(*) < 10')"
   ]
  },
  {
   "cell_type": "code",
   "execution_count": 99,
   "metadata": {},
   "outputs": [],
   "source": [
    "less_rating.createOrReplaceTempView('less_rating')"
   ]
  },
  {
   "cell_type": "code",
   "execution_count": 100,
   "metadata": {},
   "outputs": [],
   "source": [
    "counts = spark.sql('SELECT COUNT(*) AS count FROM less_rating')"
   ]
  },
  {
   "cell_type": "code",
   "execution_count": 101,
   "metadata": {},
   "outputs": [
    {
     "name": "stdout",
     "output_type": "stream",
     "text": [
      "+-----+\n",
      "|count|\n",
      "+-----+\n",
      "| 6886|\n",
      "+-----+\n",
      "\n"
     ]
    }
   ],
   "source": [
    "counts.show()"
   ]
  },
  {
   "cell_type": "code",
   "execution_count": 102,
   "metadata": {},
   "outputs": [],
   "source": [
    "# the total users\n",
    "counts = spark.sql('SELECT COUNT(*) AS Total FROM transformed_view')"
   ]
  },
  {
   "cell_type": "code",
   "execution_count": 103,
   "metadata": {},
   "outputs": [
    {
     "name": "stdout",
     "output_type": "stream",
     "text": [
      "+------+\n",
      "| Total|\n",
      "+------+\n",
      "|192492|\n",
      "+------+\n",
      "\n"
     ]
    }
   ],
   "source": [
    "counts.show()"
   ]
  },
  {
   "cell_type": "code",
   "execution_count": null,
   "metadata": {},
   "outputs": [],
   "source": []
  }
 ],
 "metadata": {
  "kernelspec": {
   "display_name": "Python 3",
   "language": "python",
   "name": "python3"
  },
  "language_info": {
   "codemirror_mode": {
    "name": "ipython",
    "version": 3
   },
   "file_extension": ".py",
   "mimetype": "text/x-python",
   "name": "python",
   "nbconvert_exporter": "python",
   "pygments_lexer": "ipython3",
   "version": "3.6.9"
  }
 },
 "nbformat": 4,
 "nbformat_minor": 2
}
